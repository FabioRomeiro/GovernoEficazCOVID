{
 "cells": [
  {
   "cell_type": "markdown",
   "metadata": {},
   "source": [
    "# Governo Eficaz COVID"
   ]
  },
  {
   "cell_type": "markdown",
   "metadata": {},
   "source": [
    "## Descrição\n",
    "Eficácia e eficiência no tratamento de COVID-19 por parte dos prefeitos e governadores.\n",
    "\n",
    "Visualização dos dados de tratamento e morte por COVID-19 divulgados pelo governo correlacionado com cada prefeito e governador, e seus respectivos partidos, para demonstrar o quanto foi gasto na contenção da doença e sua taxa de sucesso (na região sudeste do Brasil e nas principais cidades do vale do paraiba) a fim de ajudar na decisão de um candidato nas eleições."
   ]
  },
  {
   "cell_type": "markdown",
   "metadata": {},
   "source": [
    "**Autores:** Bruna Gonçalves e Fábio Romeiro"
   ]
  },
  {
   "cell_type": "markdown",
   "metadata": {},
   "source": [
    "### Importando dependencias"
   ]
  },
  {
   "cell_type": "code",
   "execution_count": 52,
   "metadata": {},
   "outputs": [],
   "source": [
    "import pandas as pd"
   ]
  },
  {
   "cell_type": "markdown",
   "metadata": {},
   "source": [
    "### Importando e estudando dados de candidatos a prefeitos"
   ]
  },
  {
   "cell_type": "code",
   "execution_count": 53,
   "metadata": {},
   "outputs": [],
   "source": [
    "df_all_candidates = pd.read_csv('Dados/prefeitos2016a2020.csv', encoding='latin1')"
   ]
  },
  {
   "cell_type": "code",
   "execution_count": 54,
   "metadata": {},
   "outputs": [
    {
     "data": {
      "text/html": [
       "<div>\n",
       "<style scoped>\n",
       "    .dataframe tbody tr th:only-of-type {\n",
       "        vertical-align: middle;\n",
       "    }\n",
       "\n",
       "    .dataframe tbody tr th {\n",
       "        vertical-align: top;\n",
       "    }\n",
       "\n",
       "    .dataframe thead th {\n",
       "        text-align: right;\n",
       "    }\n",
       "</style>\n",
       "<table border=\"1\" class=\"dataframe\">\n",
       "  <thead>\n",
       "    <tr style=\"text-align: right;\">\n",
       "      <th></th>\n",
       "      <th>ano_eleicao</th>\n",
       "      <th>sigla_uf</th>\n",
       "      <th>descricao_ue</th>\n",
       "      <th>num_turno</th>\n",
       "      <th>descricao_cargo</th>\n",
       "      <th>sigla_partido</th>\n",
       "      <th>descricao_sexo</th>\n",
       "      <th>cpf_candidato</th>\n",
       "      <th>data_nascimento</th>\n",
       "      <th>numero_candidato</th>\n",
       "      <th>nome_candidato</th>\n",
       "      <th>nome_urna_candidato</th>\n",
       "      <th>des_situacao_candidatura</th>\n",
       "      <th>desc_sit_tot_turno</th>\n",
       "    </tr>\n",
       "  </thead>\n",
       "  <tbody>\n",
       "    <tr>\n",
       "      <th>0</th>\n",
       "      <td>2016</td>\n",
       "      <td>SP</td>\n",
       "      <td>EUCLIDES DA CUNHA PAULISTA</td>\n",
       "      <td>1</td>\n",
       "      <td>PREFEITO</td>\n",
       "      <td>PMDB</td>\n",
       "      <td>MASCULINO</td>\n",
       "      <td>***185628**</td>\n",
       "      <td>15/06/1963</td>\n",
       "      <td>15</td>\n",
       "      <td>ELIAS TOLOVI ROSA</td>\n",
       "      <td>ELIAS</td>\n",
       "      <td>DEFERIDO</td>\n",
       "      <td>NÃO ELEITO</td>\n",
       "    </tr>\n",
       "    <tr>\n",
       "      <th>1</th>\n",
       "      <td>2016</td>\n",
       "      <td>SP</td>\n",
       "      <td>EUCLIDES DA CUNHA PAULISTA</td>\n",
       "      <td>1</td>\n",
       "      <td>PREFEITO</td>\n",
       "      <td>PRB</td>\n",
       "      <td>MASCULINO</td>\n",
       "      <td>***628898**</td>\n",
       "      <td>22/11/1987</td>\n",
       "      <td>10</td>\n",
       "      <td>DOMINGOS MENTE LOPES</td>\n",
       "      <td>NÊNÊ LOPES</td>\n",
       "      <td>DEFERIDO</td>\n",
       "      <td>NÃO ELEITO</td>\n",
       "    </tr>\n",
       "    <tr>\n",
       "      <th>2</th>\n",
       "      <td>2016</td>\n",
       "      <td>SP</td>\n",
       "      <td>EUCLIDES DA CUNHA PAULISTA</td>\n",
       "      <td>1</td>\n",
       "      <td>PREFEITO</td>\n",
       "      <td>PSD</td>\n",
       "      <td>MASCULINO</td>\n",
       "      <td>***144678**</td>\n",
       "      <td>26/07/1976</td>\n",
       "      <td>55</td>\n",
       "      <td>CHRISTIAN FUZIKI IKEDA</td>\n",
       "      <td>DR CHRISTIAN</td>\n",
       "      <td>DEFERIDO</td>\n",
       "      <td>ELEITO</td>\n",
       "    </tr>\n",
       "    <tr>\n",
       "      <th>3</th>\n",
       "      <td>2016</td>\n",
       "      <td>SP</td>\n",
       "      <td>ADAMANTINA</td>\n",
       "      <td>1</td>\n",
       "      <td>PREFEITO</td>\n",
       "      <td>DEM</td>\n",
       "      <td>MASCULINO</td>\n",
       "      <td>***900438**</td>\n",
       "      <td>26/06/1963</td>\n",
       "      <td>25</td>\n",
       "      <td>MÁRCIO CARDIM</td>\n",
       "      <td>MÁRCIO CARDIM</td>\n",
       "      <td>DEFERIDO</td>\n",
       "      <td>ELEITO</td>\n",
       "    </tr>\n",
       "    <tr>\n",
       "      <th>4</th>\n",
       "      <td>2016</td>\n",
       "      <td>SP</td>\n",
       "      <td>ADAMANTINA</td>\n",
       "      <td>1</td>\n",
       "      <td>PREFEITO</td>\n",
       "      <td>PTB</td>\n",
       "      <td>MASCULINO</td>\n",
       "      <td>***548498**</td>\n",
       "      <td>06/03/1960</td>\n",
       "      <td>14</td>\n",
       "      <td>CICERO MORTARI</td>\n",
       "      <td>CICERO MORTARI</td>\n",
       "      <td>DEFERIDO</td>\n",
       "      <td>NÃO ELEITO</td>\n",
       "    </tr>\n",
       "  </tbody>\n",
       "</table>\n",
       "</div>"
      ],
      "text/plain": [
       "   ano_eleicao sigla_uf                descricao_ue  num_turno  \\\n",
       "0         2016       SP  EUCLIDES DA CUNHA PAULISTA          1   \n",
       "1         2016       SP  EUCLIDES DA CUNHA PAULISTA          1   \n",
       "2         2016       SP  EUCLIDES DA CUNHA PAULISTA          1   \n",
       "3         2016       SP                  ADAMANTINA          1   \n",
       "4         2016       SP                  ADAMANTINA          1   \n",
       "\n",
       "  descricao_cargo sigla_partido descricao_sexo cpf_candidato data_nascimento  \\\n",
       "0        PREFEITO          PMDB      MASCULINO   ***185628**      15/06/1963   \n",
       "1        PREFEITO           PRB      MASCULINO   ***628898**      22/11/1987   \n",
       "2        PREFEITO           PSD      MASCULINO   ***144678**      26/07/1976   \n",
       "3        PREFEITO           DEM      MASCULINO   ***900438**      26/06/1963   \n",
       "4        PREFEITO           PTB      MASCULINO   ***548498**      06/03/1960   \n",
       "\n",
       "   numero_candidato          nome_candidato nome_urna_candidato  \\\n",
       "0                15       ELIAS TOLOVI ROSA               ELIAS   \n",
       "1                10    DOMINGOS MENTE LOPES          NÊNÊ LOPES   \n",
       "2                55  CHRISTIAN FUZIKI IKEDA        DR CHRISTIAN   \n",
       "3                25           MÁRCIO CARDIM       MÁRCIO CARDIM   \n",
       "4                14          CICERO MORTARI      CICERO MORTARI   \n",
       "\n",
       "  des_situacao_candidatura desc_sit_tot_turno  \n",
       "0                 DEFERIDO         NÃO ELEITO  \n",
       "1                 DEFERIDO         NÃO ELEITO  \n",
       "2                 DEFERIDO             ELEITO  \n",
       "3                 DEFERIDO             ELEITO  \n",
       "4                 DEFERIDO         NÃO ELEITO  "
      ]
     },
     "execution_count": 54,
     "metadata": {},
     "output_type": "execute_result"
    }
   ],
   "source": [
    "df_all_candidates.head()"
   ]
  },
  {
   "cell_type": "code",
   "execution_count": 55,
   "metadata": {},
   "outputs": [
    {
     "data": {
      "text/html": [
       "<div>\n",
       "<style scoped>\n",
       "    .dataframe tbody tr th:only-of-type {\n",
       "        vertical-align: middle;\n",
       "    }\n",
       "\n",
       "    .dataframe tbody tr th {\n",
       "        vertical-align: top;\n",
       "    }\n",
       "\n",
       "    .dataframe thead th {\n",
       "        text-align: right;\n",
       "    }\n",
       "</style>\n",
       "<table border=\"1\" class=\"dataframe\">\n",
       "  <thead>\n",
       "    <tr style=\"text-align: right;\">\n",
       "      <th>Variable</th>\n",
       "      <th>Data type</th>\n",
       "    </tr>\n",
       "  </thead>\n",
       "  <tbody>\n",
       "    <tr>\n",
       "      <th>ano_eleicao</th>\n",
       "      <td>int64</td>\n",
       "    </tr>\n",
       "    <tr>\n",
       "      <th>sigla_uf</th>\n",
       "      <td>object</td>\n",
       "    </tr>\n",
       "    <tr>\n",
       "      <th>descricao_ue</th>\n",
       "      <td>object</td>\n",
       "    </tr>\n",
       "    <tr>\n",
       "      <th>num_turno</th>\n",
       "      <td>int64</td>\n",
       "    </tr>\n",
       "    <tr>\n",
       "      <th>descricao_cargo</th>\n",
       "      <td>object</td>\n",
       "    </tr>\n",
       "    <tr>\n",
       "      <th>sigla_partido</th>\n",
       "      <td>object</td>\n",
       "    </tr>\n",
       "    <tr>\n",
       "      <th>descricao_sexo</th>\n",
       "      <td>object</td>\n",
       "    </tr>\n",
       "    <tr>\n",
       "      <th>cpf_candidato</th>\n",
       "      <td>object</td>\n",
       "    </tr>\n",
       "    <tr>\n",
       "      <th>data_nascimento</th>\n",
       "      <td>object</td>\n",
       "    </tr>\n",
       "    <tr>\n",
       "      <th>numero_candidato</th>\n",
       "      <td>int64</td>\n",
       "    </tr>\n",
       "    <tr>\n",
       "      <th>nome_candidato</th>\n",
       "      <td>object</td>\n",
       "    </tr>\n",
       "    <tr>\n",
       "      <th>nome_urna_candidato</th>\n",
       "      <td>object</td>\n",
       "    </tr>\n",
       "    <tr>\n",
       "      <th>des_situacao_candidatura</th>\n",
       "      <td>object</td>\n",
       "    </tr>\n",
       "    <tr>\n",
       "      <th>desc_sit_tot_turno</th>\n",
       "      <td>object</td>\n",
       "    </tr>\n",
       "  </tbody>\n",
       "</table>\n",
       "</div>"
      ],
      "text/plain": [
       "Variable                 Data type\n",
       "ano_eleicao                  int64\n",
       "sigla_uf                    object\n",
       "descricao_ue                object\n",
       "num_turno                    int64\n",
       "descricao_cargo             object\n",
       "sigla_partido               object\n",
       "descricao_sexo              object\n",
       "cpf_candidato               object\n",
       "data_nascimento             object\n",
       "numero_candidato             int64\n",
       "nome_candidato              object\n",
       "nome_urna_candidato         object\n",
       "des_situacao_candidatura    object\n",
       "desc_sit_tot_turno          object"
      ]
     },
     "execution_count": 55,
     "metadata": {},
     "output_type": "execute_result"
    }
   ],
   "source": [
    "variable_types = pd.DataFrame(df_all_candidates.dtypes, columns=['Data type'])\n",
    "variable_types.columns.name = 'Variable'\n",
    "variable_types"
   ]
  },
  {
   "cell_type": "code",
   "execution_count": 56,
   "metadata": {},
   "outputs": [
    {
     "name": "stdout",
     "output_type": "stream",
     "text": [
      "A base de dados apresenta 2077 registros (candidatos) e 14 variáveis\n"
     ]
    }
   ],
   "source": [
    "print('A base de dados apresenta {} registros (candidatos) e {} variáveis'.format(df_all_candidates.shape[0], df_all_candidates.shape[1]))"
   ]
  },
  {
   "cell_type": "markdown",
   "metadata": {},
   "source": [
    "### Filtrando candidatos eleitos como prefeito por cidades escolhidas"
   ]
  },
  {
   "cell_type": "code",
   "execution_count": 57,
   "metadata": {},
   "outputs": [],
   "source": [
    "chosen_cities = [\n",
    "    'SÃO JOSÉ DOS CAMPOS',\n",
    "    'TAUBATÉ',\n",
    "    'JACAREÍ',\n",
    "    'CAÇAPAVA',\n",
    "    'PINDAMONHANGABA'\n",
    "]"
   ]
  },
  {
   "cell_type": "code",
   "execution_count": 87,
   "metadata": {
    "scrolled": true
   },
   "outputs": [
    {
     "data": {
      "text/html": [
       "<div>\n",
       "<style scoped>\n",
       "    .dataframe tbody tr th:only-of-type {\n",
       "        vertical-align: middle;\n",
       "    }\n",
       "\n",
       "    .dataframe tbody tr th {\n",
       "        vertical-align: top;\n",
       "    }\n",
       "\n",
       "    .dataframe thead th {\n",
       "        text-align: right;\n",
       "    }\n",
       "</style>\n",
       "<table border=\"1\" class=\"dataframe\">\n",
       "  <thead>\n",
       "    <tr style=\"text-align: right;\">\n",
       "      <th></th>\n",
       "      <th>nome_candidato</th>\n",
       "      <th>sigla_partido</th>\n",
       "      <th>descricao_ue</th>\n",
       "    </tr>\n",
       "  </thead>\n",
       "  <tbody>\n",
       "    <tr>\n",
       "      <th>0</th>\n",
       "      <td>FERNANDO CID DINIZ BORGES</td>\n",
       "      <td>PV</td>\n",
       "      <td>CAÇAPAVA</td>\n",
       "    </tr>\n",
       "    <tr>\n",
       "      <th>1</th>\n",
       "      <td>IZAIAS JOSÉ DE SANTANA</td>\n",
       "      <td>PSDB</td>\n",
       "      <td>JACAREÍ</td>\n",
       "    </tr>\n",
       "    <tr>\n",
       "      <th>2</th>\n",
       "      <td>ISAEL DOMINGUES</td>\n",
       "      <td>PR</td>\n",
       "      <td>PINDAMONHANGABA</td>\n",
       "    </tr>\n",
       "    <tr>\n",
       "      <th>3</th>\n",
       "      <td>FELÍCIO RAMUTH</td>\n",
       "      <td>PSDB</td>\n",
       "      <td>SÃO JOSÉ DOS CAMPOS</td>\n",
       "    </tr>\n",
       "    <tr>\n",
       "      <th>4</th>\n",
       "      <td>JOSE BERNARDO ORTIZ MONTEIRO JUNIOR</td>\n",
       "      <td>PSDB</td>\n",
       "      <td>TAUBATÉ</td>\n",
       "    </tr>\n",
       "  </tbody>\n",
       "</table>\n",
       "</div>"
      ],
      "text/plain": [
       "                        nome_candidato sigla_partido         descricao_ue\n",
       "0            FERNANDO CID DINIZ BORGES            PV             CAÇAPAVA\n",
       "1               IZAIAS JOSÉ DE SANTANA          PSDB              JACAREÍ\n",
       "2                      ISAEL DOMINGUES            PR      PINDAMONHANGABA\n",
       "3                       FELÍCIO RAMUTH          PSDB  SÃO JOSÉ DOS CAMPOS\n",
       "4  JOSE BERNARDO ORTIZ MONTEIRO JUNIOR          PSDB              TAUBATÉ"
      ]
     },
     "execution_count": 87,
     "metadata": {},
     "output_type": "execute_result"
    }
   ],
   "source": [
    "df_candidates = df_all_candidates.query('desc_sit_tot_turno  == \"ELEITO\" and descricao_ue in @chosen_cities')[['nome_candidato', 'sigla_partido', 'descricao_ue']]\n",
    "df_candidates.index = range(df_candidates.shape[0])\n",
    "df_candidates"
   ]
  },
  {
   "cell_type": "code",
   "execution_count": null,
   "metadata": {},
   "outputs": [],
   "source": []
  }
 ],
 "metadata": {
  "kernelspec": {
   "display_name": "Python 3",
   "language": "python",
   "name": "python3"
  },
  "language_info": {
   "codemirror_mode": {
    "name": "ipython",
    "version": 3
   },
   "file_extension": ".py",
   "mimetype": "text/x-python",
   "name": "python",
   "nbconvert_exporter": "python",
   "pygments_lexer": "ipython3",
   "version": "3.6.12"
  }
 },
 "nbformat": 4,
 "nbformat_minor": 4
}
