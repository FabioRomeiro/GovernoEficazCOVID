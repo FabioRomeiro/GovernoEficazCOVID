{
 "cells": [
  {
   "cell_type": "code",
   "execution_count": 10,
   "metadata": {},
   "outputs": [],
   "source": [
    "import pandas as pd"
   ]
  },
  {
   "cell_type": "code",
   "execution_count": 11,
   "metadata": {},
   "outputs": [],
   "source": [
    "df_municipios = pd.read_csv('Dados/HIST_PAINEL_COVIDBR_28nov2020.csv', sep=\";\", encoding=\"ANSI\")"
   ]
  },
  {
   "cell_type": "code",
   "execution_count": 12,
   "metadata": {},
   "outputs": [],
   "source": [
    "chosen_cities = [\n",
    "    'São José dos Campos',\n",
    "    'Taubaté',\n",
    "    'Jacareí',\n",
    "    'Caçapava',\n",
    "    'Pindamonhangaba'\n",
    "]"
   ]
  },
  {
   "cell_type": "code",
   "execution_count": 70,
   "metadata": {},
   "outputs": [
    {
     "data": {
      "text/plain": [
       "municipio\n",
       "False    63018791\n",
       "True        54784\n",
       "Name: obitosAcumulado, dtype: int64"
      ]
     },
     "execution_count": 70,
     "metadata": {},
     "output_type": "execute_result"
    }
   ],
   "source": [
    "#soma de Óbitos para São José dos Campos \n",
    "df_sjc_soma = df_municipios.groupby([df_municipios['municipio'] == 'São José dos Campos'])['obitosAcumulado'].sum()\n",
    "\n",
    "df_sjc_soma"
   ]
  },
  {
   "cell_type": "code",
   "execution_count": 69,
   "metadata": {},
   "outputs": [
    {
     "data": {
      "text/plain": [
       "municipio\n",
       "False    63057343\n",
       "True        16232\n",
       "Name: obitosAcumulado, dtype: int64"
      ]
     },
     "execution_count": 69,
     "metadata": {},
     "output_type": "execute_result"
    }
   ],
   "source": [
    "#soma de Óbitos para Taubaté \n",
    "df_ta_soma = df_municipios.groupby([df_municipios['municipio'] == 'Taubaté'])['obitosAcumulado'].sum()\n",
    "df_ta_soma"
   ]
  },
  {
   "cell_type": "code",
   "execution_count": 68,
   "metadata": {},
   "outputs": [
    {
     "data": {
      "text/plain": [
       "municipio\n",
       "False    63056745\n",
       "True        16830\n",
       "Name: obitosAcumulado, dtype: int64"
      ]
     },
     "execution_count": 68,
     "metadata": {},
     "output_type": "execute_result"
    }
   ],
   "source": [
    "#soma de Óbitos para Jacareí \n",
    "df_ja_soma = df_municipios.groupby([df_municipios['municipio'] == 'Jacareí'])['obitosAcumulado'].sum()\n",
    "\n",
    "df_ja_soma"
   ]
  },
  {
   "cell_type": "code",
   "execution_count": 67,
   "metadata": {},
   "outputs": [
    {
     "data": {
      "text/plain": [
       "municipio\n",
       "False    63068292\n",
       "True         5283\n",
       "Name: obitosAcumulado, dtype: int64"
      ]
     },
     "execution_count": 67,
     "metadata": {},
     "output_type": "execute_result"
    }
   ],
   "source": [
    "#soma de Óbitos para Pindamonhangaba \n",
    "df_pi_soma = df_municipios.groupby([df_municipios['municipio'] == 'Pindamonhangaba'])['obitosAcumulado'].sum()\n",
    "\n",
    "df_pi_soma"
   ]
  },
  {
   "cell_type": "code",
   "execution_count": 66,
   "metadata": {},
   "outputs": [
    {
     "data": {
      "text/plain": [
       "municipio\n",
       "False    63067487\n",
       "True         6088\n",
       "Name: obitosAcumulado, dtype: int64"
      ]
     },
     "execution_count": 66,
     "metadata": {},
     "output_type": "execute_result"
    }
   ],
   "source": [
    "#soma de Óbitos para Caçapava \n",
    "df_ca_soma = df_municipios.groupby([df_municipios['municipio'] == 'Caçapava'])['obitosAcumulado'].sum()\n",
    "\n",
    "df_ca_soma"
   ]
  },
  {
   "cell_type": "code",
   "execution_count": 75,
   "metadata": {},
   "outputs": [
    {
     "data": {
      "text/plain": [
       "estado\n",
       "False    52617914\n",
       "True     10455661\n",
       "Name: obitosAcumulado, dtype: int64"
      ]
     },
     "execution_count": 75,
     "metadata": {},
     "output_type": "execute_result"
    }
   ],
   "source": [
    "#soma de Óbitos para São Paulo \n",
    "df_sp_soma = df_municipios.groupby([df_municipios['estado'] == 'SP'])['obitosAcumulado'].sum()\n",
    "\n",
    "df_sp_soma"
   ]
  },
  {
   "cell_type": "code",
   "execution_count": null,
   "metadata": {},
   "outputs": [],
   "source": []
  }
 ],
 "metadata": {
  "kernelspec": {
   "display_name": "Python 3",
   "language": "python",
   "name": "python3"
  },
  "language_info": {
   "codemirror_mode": {
    "name": "ipython",
    "version": 3
   },
   "file_extension": ".py",
   "mimetype": "text/x-python",
   "name": "python",
   "nbconvert_exporter": "python",
   "pygments_lexer": "ipython3",
   "version": "3.6.12"
  }
 },
 "nbformat": 4,
 "nbformat_minor": 2
}
