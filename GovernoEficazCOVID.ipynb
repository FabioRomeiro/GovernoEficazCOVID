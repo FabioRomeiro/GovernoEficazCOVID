{
 "cells": [
  {
   "cell_type": "markdown",
   "metadata": {},
   "source": [
    "# Governo Eficaz COVID"
   ]
  },
  {
   "cell_type": "markdown",
   "metadata": {},
   "source": [
    "## Descrição\n",
    "Eficácia e eficiência no tratamento de COVID-19 por parte dos prefeitos e governadores.\n",
    "\n",
    "Visualização dos dados de tratamento e morte por COVID-19 divulgados pelo governo correlacionado com cada prefeito e seus respectivos partidos, para demonstrar o quanto foi gasto na contenção da doença e sua taxa de sucesso (nas principais cidades do vale do paraiba) a fim de ajudar na decisão de um candidato nas eleições."
   ]
  },
  {
   "cell_type": "markdown",
   "metadata": {},
   "source": [
    "**Autores:** Bruna Gonçalves e Fábio Romeiro"
   ]
  },
  {
   "cell_type": "markdown",
   "metadata": {},
   "source": [
    "### Importando dependencias"
   ]
  },
  {
   "cell_type": "code",
   "execution_count": 25,
   "metadata": {},
   "outputs": [],
   "source": [
    "import pandas as pd\n",
    "from functools import reduce"
   ]
  },
  {
   "cell_type": "markdown",
   "metadata": {},
   "source": [
    "### Definindo cidades escolhidas para o estudo"
   ]
  },
  {
   "cell_type": "code",
   "execution_count": 76,
   "metadata": {},
   "outputs": [],
   "source": [
    "chosen_cities = [\n",
    "    'SÃO JOSÉ DOS CAMPOS',\n",
    "    'TAUBATÉ',\n",
    "    'JACAREÍ',\n",
    "    'CAÇAPAVA',\n",
    "    'PINDAMONHANGABA'\n",
    "]"
   ]
  },
  {
   "cell_type": "markdown",
   "metadata": {},
   "source": [
    "### Importando e estudando dados de candidatos a prefeitos"
   ]
  },
  {
   "cell_type": "code",
   "execution_count": 2,
   "metadata": {},
   "outputs": [
    {
     "data": {
      "text/html": [
       "<div>\n",
       "<style scoped>\n",
       "    .dataframe tbody tr th:only-of-type {\n",
       "        vertical-align: middle;\n",
       "    }\n",
       "\n",
       "    .dataframe tbody tr th {\n",
       "        vertical-align: top;\n",
       "    }\n",
       "\n",
       "    .dataframe thead th {\n",
       "        text-align: right;\n",
       "    }\n",
       "</style>\n",
       "<table border=\"1\" class=\"dataframe\">\n",
       "  <thead>\n",
       "    <tr style=\"text-align: right;\">\n",
       "      <th></th>\n",
       "      <th>ano_eleicao</th>\n",
       "      <th>sigla_uf</th>\n",
       "      <th>descricao_ue</th>\n",
       "      <th>num_turno</th>\n",
       "      <th>descricao_cargo</th>\n",
       "      <th>sigla_partido</th>\n",
       "      <th>descricao_sexo</th>\n",
       "      <th>cpf_candidato</th>\n",
       "      <th>data_nascimento</th>\n",
       "      <th>numero_candidato</th>\n",
       "      <th>nome_candidato</th>\n",
       "      <th>nome_urna_candidato</th>\n",
       "      <th>des_situacao_candidatura</th>\n",
       "      <th>desc_sit_tot_turno</th>\n",
       "    </tr>\n",
       "  </thead>\n",
       "  <tbody>\n",
       "    <tr>\n",
       "      <th>0</th>\n",
       "      <td>2016</td>\n",
       "      <td>SP</td>\n",
       "      <td>EUCLIDES DA CUNHA PAULISTA</td>\n",
       "      <td>1</td>\n",
       "      <td>PREFEITO</td>\n",
       "      <td>PMDB</td>\n",
       "      <td>MASCULINO</td>\n",
       "      <td>***185628**</td>\n",
       "      <td>15/06/1963</td>\n",
       "      <td>15</td>\n",
       "      <td>ELIAS TOLOVI ROSA</td>\n",
       "      <td>ELIAS</td>\n",
       "      <td>DEFERIDO</td>\n",
       "      <td>NÃO ELEITO</td>\n",
       "    </tr>\n",
       "    <tr>\n",
       "      <th>1</th>\n",
       "      <td>2016</td>\n",
       "      <td>SP</td>\n",
       "      <td>EUCLIDES DA CUNHA PAULISTA</td>\n",
       "      <td>1</td>\n",
       "      <td>PREFEITO</td>\n",
       "      <td>PRB</td>\n",
       "      <td>MASCULINO</td>\n",
       "      <td>***628898**</td>\n",
       "      <td>22/11/1987</td>\n",
       "      <td>10</td>\n",
       "      <td>DOMINGOS MENTE LOPES</td>\n",
       "      <td>NÊNÊ LOPES</td>\n",
       "      <td>DEFERIDO</td>\n",
       "      <td>NÃO ELEITO</td>\n",
       "    </tr>\n",
       "    <tr>\n",
       "      <th>2</th>\n",
       "      <td>2016</td>\n",
       "      <td>SP</td>\n",
       "      <td>EUCLIDES DA CUNHA PAULISTA</td>\n",
       "      <td>1</td>\n",
       "      <td>PREFEITO</td>\n",
       "      <td>PSD</td>\n",
       "      <td>MASCULINO</td>\n",
       "      <td>***144678**</td>\n",
       "      <td>26/07/1976</td>\n",
       "      <td>55</td>\n",
       "      <td>CHRISTIAN FUZIKI IKEDA</td>\n",
       "      <td>DR CHRISTIAN</td>\n",
       "      <td>DEFERIDO</td>\n",
       "      <td>ELEITO</td>\n",
       "    </tr>\n",
       "    <tr>\n",
       "      <th>3</th>\n",
       "      <td>2016</td>\n",
       "      <td>SP</td>\n",
       "      <td>ADAMANTINA</td>\n",
       "      <td>1</td>\n",
       "      <td>PREFEITO</td>\n",
       "      <td>DEM</td>\n",
       "      <td>MASCULINO</td>\n",
       "      <td>***900438**</td>\n",
       "      <td>26/06/1963</td>\n",
       "      <td>25</td>\n",
       "      <td>MÁRCIO CARDIM</td>\n",
       "      <td>MÁRCIO CARDIM</td>\n",
       "      <td>DEFERIDO</td>\n",
       "      <td>ELEITO</td>\n",
       "    </tr>\n",
       "    <tr>\n",
       "      <th>4</th>\n",
       "      <td>2016</td>\n",
       "      <td>SP</td>\n",
       "      <td>ADAMANTINA</td>\n",
       "      <td>1</td>\n",
       "      <td>PREFEITO</td>\n",
       "      <td>PTB</td>\n",
       "      <td>MASCULINO</td>\n",
       "      <td>***548498**</td>\n",
       "      <td>06/03/1960</td>\n",
       "      <td>14</td>\n",
       "      <td>CICERO MORTARI</td>\n",
       "      <td>CICERO MORTARI</td>\n",
       "      <td>DEFERIDO</td>\n",
       "      <td>NÃO ELEITO</td>\n",
       "    </tr>\n",
       "  </tbody>\n",
       "</table>\n",
       "</div>"
      ],
      "text/plain": [
       "   ano_eleicao sigla_uf                descricao_ue  num_turno  \\\n",
       "0         2016       SP  EUCLIDES DA CUNHA PAULISTA          1   \n",
       "1         2016       SP  EUCLIDES DA CUNHA PAULISTA          1   \n",
       "2         2016       SP  EUCLIDES DA CUNHA PAULISTA          1   \n",
       "3         2016       SP                  ADAMANTINA          1   \n",
       "4         2016       SP                  ADAMANTINA          1   \n",
       "\n",
       "  descricao_cargo sigla_partido descricao_sexo cpf_candidato data_nascimento  \\\n",
       "0        PREFEITO          PMDB      MASCULINO   ***185628**      15/06/1963   \n",
       "1        PREFEITO           PRB      MASCULINO   ***628898**      22/11/1987   \n",
       "2        PREFEITO           PSD      MASCULINO   ***144678**      26/07/1976   \n",
       "3        PREFEITO           DEM      MASCULINO   ***900438**      26/06/1963   \n",
       "4        PREFEITO           PTB      MASCULINO   ***548498**      06/03/1960   \n",
       "\n",
       "   numero_candidato          nome_candidato nome_urna_candidato  \\\n",
       "0                15       ELIAS TOLOVI ROSA               ELIAS   \n",
       "1                10    DOMINGOS MENTE LOPES          NÊNÊ LOPES   \n",
       "2                55  CHRISTIAN FUZIKI IKEDA        DR CHRISTIAN   \n",
       "3                25           MÁRCIO CARDIM       MÁRCIO CARDIM   \n",
       "4                14          CICERO MORTARI      CICERO MORTARI   \n",
       "\n",
       "  des_situacao_candidatura desc_sit_tot_turno  \n",
       "0                 DEFERIDO         NÃO ELEITO  \n",
       "1                 DEFERIDO         NÃO ELEITO  \n",
       "2                 DEFERIDO             ELEITO  \n",
       "3                 DEFERIDO             ELEITO  \n",
       "4                 DEFERIDO         NÃO ELEITO  "
      ]
     },
     "execution_count": 2,
     "metadata": {},
     "output_type": "execute_result"
    }
   ],
   "source": [
    "df_all_candidates = pd.read_csv('Dados/prefeitos2016a2020.csv', encoding='latin1')\n",
    "df_all_candidates.head()"
   ]
  },
  {
   "cell_type": "code",
   "execution_count": 3,
   "metadata": {},
   "outputs": [
    {
     "data": {
      "text/html": [
       "<div>\n",
       "<style scoped>\n",
       "    .dataframe tbody tr th:only-of-type {\n",
       "        vertical-align: middle;\n",
       "    }\n",
       "\n",
       "    .dataframe tbody tr th {\n",
       "        vertical-align: top;\n",
       "    }\n",
       "\n",
       "    .dataframe thead th {\n",
       "        text-align: right;\n",
       "    }\n",
       "</style>\n",
       "<table border=\"1\" class=\"dataframe\">\n",
       "  <thead>\n",
       "    <tr style=\"text-align: right;\">\n",
       "      <th>Variable</th>\n",
       "      <th>Data type</th>\n",
       "    </tr>\n",
       "  </thead>\n",
       "  <tbody>\n",
       "    <tr>\n",
       "      <th>ano_eleicao</th>\n",
       "      <td>int64</td>\n",
       "    </tr>\n",
       "    <tr>\n",
       "      <th>sigla_uf</th>\n",
       "      <td>object</td>\n",
       "    </tr>\n",
       "    <tr>\n",
       "      <th>descricao_ue</th>\n",
       "      <td>object</td>\n",
       "    </tr>\n",
       "    <tr>\n",
       "      <th>num_turno</th>\n",
       "      <td>int64</td>\n",
       "    </tr>\n",
       "    <tr>\n",
       "      <th>descricao_cargo</th>\n",
       "      <td>object</td>\n",
       "    </tr>\n",
       "    <tr>\n",
       "      <th>sigla_partido</th>\n",
       "      <td>object</td>\n",
       "    </tr>\n",
       "    <tr>\n",
       "      <th>descricao_sexo</th>\n",
       "      <td>object</td>\n",
       "    </tr>\n",
       "    <tr>\n",
       "      <th>cpf_candidato</th>\n",
       "      <td>object</td>\n",
       "    </tr>\n",
       "    <tr>\n",
       "      <th>data_nascimento</th>\n",
       "      <td>object</td>\n",
       "    </tr>\n",
       "    <tr>\n",
       "      <th>numero_candidato</th>\n",
       "      <td>int64</td>\n",
       "    </tr>\n",
       "    <tr>\n",
       "      <th>nome_candidato</th>\n",
       "      <td>object</td>\n",
       "    </tr>\n",
       "    <tr>\n",
       "      <th>nome_urna_candidato</th>\n",
       "      <td>object</td>\n",
       "    </tr>\n",
       "    <tr>\n",
       "      <th>des_situacao_candidatura</th>\n",
       "      <td>object</td>\n",
       "    </tr>\n",
       "    <tr>\n",
       "      <th>desc_sit_tot_turno</th>\n",
       "      <td>object</td>\n",
       "    </tr>\n",
       "  </tbody>\n",
       "</table>\n",
       "</div>"
      ],
      "text/plain": [
       "Variable                 Data type\n",
       "ano_eleicao                  int64\n",
       "sigla_uf                    object\n",
       "descricao_ue                object\n",
       "num_turno                    int64\n",
       "descricao_cargo             object\n",
       "sigla_partido               object\n",
       "descricao_sexo              object\n",
       "cpf_candidato               object\n",
       "data_nascimento             object\n",
       "numero_candidato             int64\n",
       "nome_candidato              object\n",
       "nome_urna_candidato         object\n",
       "des_situacao_candidatura    object\n",
       "desc_sit_tot_turno          object"
      ]
     },
     "execution_count": 3,
     "metadata": {},
     "output_type": "execute_result"
    }
   ],
   "source": [
    "variable_types = pd.DataFrame(df_all_candidates.dtypes, columns=['Data type'])\n",
    "variable_types.columns.name = 'Variable'\n",
    "variable_types"
   ]
  },
  {
   "cell_type": "code",
   "execution_count": 4,
   "metadata": {},
   "outputs": [
    {
     "name": "stdout",
     "output_type": "stream",
     "text": [
      "A base de dados apresenta 2077 registros (candidatos) e 14 variáveis\n"
     ]
    }
   ],
   "source": [
    "print('A base de dados apresenta {} registros (candidatos) e {} variáveis'.format(df_all_candidates.shape[0], df_all_candidates.shape[1]))"
   ]
  },
  {
   "cell_type": "markdown",
   "metadata": {},
   "source": [
    "### Filtrando candidatos eleitos como prefeito por cidades escolhidas"
   ]
  },
  {
   "cell_type": "code",
   "execution_count": 6,
   "metadata": {},
   "outputs": [
    {
     "data": {
      "text/html": [
       "<div>\n",
       "<style scoped>\n",
       "    .dataframe tbody tr th:only-of-type {\n",
       "        vertical-align: middle;\n",
       "    }\n",
       "\n",
       "    .dataframe tbody tr th {\n",
       "        vertical-align: top;\n",
       "    }\n",
       "\n",
       "    .dataframe thead th {\n",
       "        text-align: right;\n",
       "    }\n",
       "</style>\n",
       "<table border=\"1\" class=\"dataframe\">\n",
       "  <thead>\n",
       "    <tr style=\"text-align: right;\">\n",
       "      <th></th>\n",
       "      <th>NOME_CANDIDATO</th>\n",
       "      <th>SIGLA_PARTIDO</th>\n",
       "      <th>CIDADE</th>\n",
       "    </tr>\n",
       "  </thead>\n",
       "  <tbody>\n",
       "    <tr>\n",
       "      <th>0</th>\n",
       "      <td>FERNANDO CID DINIZ BORGES</td>\n",
       "      <td>PV</td>\n",
       "      <td>CAÇAPAVA</td>\n",
       "    </tr>\n",
       "    <tr>\n",
       "      <th>1</th>\n",
       "      <td>IZAIAS JOSÉ DE SANTANA</td>\n",
       "      <td>PSDB</td>\n",
       "      <td>JACAREÍ</td>\n",
       "    </tr>\n",
       "    <tr>\n",
       "      <th>2</th>\n",
       "      <td>ISAEL DOMINGUES</td>\n",
       "      <td>PR</td>\n",
       "      <td>PINDAMONHANGABA</td>\n",
       "    </tr>\n",
       "    <tr>\n",
       "      <th>3</th>\n",
       "      <td>FELÍCIO RAMUTH</td>\n",
       "      <td>PSDB</td>\n",
       "      <td>SÃO JOSÉ DOS CAMPOS</td>\n",
       "    </tr>\n",
       "    <tr>\n",
       "      <th>4</th>\n",
       "      <td>JOSE BERNARDO ORTIZ MONTEIRO JUNIOR</td>\n",
       "      <td>PSDB</td>\n",
       "      <td>TAUBATÉ</td>\n",
       "    </tr>\n",
       "  </tbody>\n",
       "</table>\n",
       "</div>"
      ],
      "text/plain": [
       "                        NOME_CANDIDATO SIGLA_PARTIDO               CIDADE\n",
       "0            FERNANDO CID DINIZ BORGES            PV             CAÇAPAVA\n",
       "1               IZAIAS JOSÉ DE SANTANA          PSDB              JACAREÍ\n",
       "2                      ISAEL DOMINGUES            PR      PINDAMONHANGABA\n",
       "3                       FELÍCIO RAMUTH          PSDB  SÃO JOSÉ DOS CAMPOS\n",
       "4  JOSE BERNARDO ORTIZ MONTEIRO JUNIOR          PSDB              TAUBATÉ"
      ]
     },
     "execution_count": 6,
     "metadata": {},
     "output_type": "execute_result"
    }
   ],
   "source": [
    "df_candidates = df_all_candidates.query('desc_sit_tot_turno  == \"ELEITO\" and descricao_ue in @chosen_cities')[['nome_candidato', 'sigla_partido', 'descricao_ue']]\n",
    "df_candidates.index = range(df_candidates.shape[0])\n",
    "df_candidates.columns = ['NOME_CANDIDATO', 'SIGLA_PARTIDO', 'CIDADE']\n",
    "df_candidates"
   ]
  },
  {
   "cell_type": "markdown",
   "metadata": {},
   "source": [
    "### Importando e estudando dados de despesas dos municipios"
   ]
  },
  {
   "cell_type": "code",
   "execution_count": 7,
   "metadata": {},
   "outputs": [
    {
     "data": {
      "text/html": [
       "<div>\n",
       "<style scoped>\n",
       "    .dataframe tbody tr th:only-of-type {\n",
       "        vertical-align: middle;\n",
       "    }\n",
       "\n",
       "    .dataframe tbody tr th {\n",
       "        vertical-align: top;\n",
       "    }\n",
       "\n",
       "    .dataframe thead th {\n",
       "        text-align: right;\n",
       "    }\n",
       "</style>\n",
       "<table border=\"1\" class=\"dataframe\">\n",
       "  <thead>\n",
       "    <tr style=\"text-align: right;\">\n",
       "      <th></th>\n",
       "      <th>AN_EXERCICIO</th>\n",
       "      <th>NR_PERIODO</th>\n",
       "      <th>IN_PERIODICIDADE</th>\n",
       "      <th>CO_ESFERA</th>\n",
       "      <th>CO_PODER</th>\n",
       "      <th>ID_ENTE</th>\n",
       "      <th>NO_ENTE</th>\n",
       "      <th>SG_ENTE</th>\n",
       "      <th>fase_despesa</th>\n",
       "      <th>funcao</th>\n",
       "      <th>VALUE</th>\n",
       "      <th>QT_HABITANTE</th>\n",
       "      <th>ELEMENTLABEL</th>\n",
       "      <th>DT_STATUS_COLETA</th>\n",
       "      <th>dh_consulta</th>\n",
       "    </tr>\n",
       "  </thead>\n",
       "  <tbody>\n",
       "    <tr>\n",
       "      <th>0</th>\n",
       "      <td>2020</td>\n",
       "      <td>1</td>\n",
       "      <td>B</td>\n",
       "      <td>M</td>\n",
       "      <td>E</td>\n",
       "      <td>3524402</td>\n",
       "      <td>Jacareí</td>\n",
       "      <td>SP</td>\n",
       "      <td>DESPESAS EMPENHADAS NO BIMESTRE</td>\n",
       "      <td>Saúde</td>\n",
       "      <td>9.017802e+05</td>\n",
       "      <td>233662</td>\n",
       "      <td>Total de Despesas Intraorçamentária</td>\n",
       "      <td>2020-03-31T01:36:10Z</td>\n",
       "      <td>##------ Mon Nov 16 19:11:45 2020 ------##</td>\n",
       "    </tr>\n",
       "    <tr>\n",
       "      <th>1</th>\n",
       "      <td>2020</td>\n",
       "      <td>3</td>\n",
       "      <td>B</td>\n",
       "      <td>M</td>\n",
       "      <td>E</td>\n",
       "      <td>3549904</td>\n",
       "      <td>São José dos Campos</td>\n",
       "      <td>SP</td>\n",
       "      <td>DESPESAS EMPENHADAS NO BIMESTRE</td>\n",
       "      <td>Saúde</td>\n",
       "      <td>5.759774e+06</td>\n",
       "      <td>721944</td>\n",
       "      <td>Total de Despesas Intraorçamentária</td>\n",
       "      <td>2020-07-30T18:08:24Z</td>\n",
       "      <td>##------ Mon Nov 16 19:11:45 2020 ------##</td>\n",
       "    </tr>\n",
       "    <tr>\n",
       "      <th>2</th>\n",
       "      <td>2020</td>\n",
       "      <td>2</td>\n",
       "      <td>B</td>\n",
       "      <td>M</td>\n",
       "      <td>E</td>\n",
       "      <td>3549904</td>\n",
       "      <td>São José dos Campos</td>\n",
       "      <td>SP</td>\n",
       "      <td>DESPESAS EMPENHADAS NO BIMESTRE</td>\n",
       "      <td>Saúde</td>\n",
       "      <td>5.786305e+06</td>\n",
       "      <td>721944</td>\n",
       "      <td>Total de Despesas Intraorçamentária</td>\n",
       "      <td>2020-05-29T19:36:16Z</td>\n",
       "      <td>##------ Mon Nov 16 19:11:45 2020 ------##</td>\n",
       "    </tr>\n",
       "    <tr>\n",
       "      <th>3</th>\n",
       "      <td>2020</td>\n",
       "      <td>3</td>\n",
       "      <td>B</td>\n",
       "      <td>M</td>\n",
       "      <td>E</td>\n",
       "      <td>3524402</td>\n",
       "      <td>Jacareí</td>\n",
       "      <td>SP</td>\n",
       "      <td>DESPESAS EMPENHADAS NO BIMESTRE</td>\n",
       "      <td>Saúde</td>\n",
       "      <td>3.131959e+07</td>\n",
       "      <td>233662</td>\n",
       "      <td>Total das Despesas Exceto Intra-Orçamentárias</td>\n",
       "      <td>2020-07-31T01:34:18Z</td>\n",
       "      <td>##------ Mon Nov 16 19:11:45 2020 ------##</td>\n",
       "    </tr>\n",
       "    <tr>\n",
       "      <th>4</th>\n",
       "      <td>2020</td>\n",
       "      <td>2</td>\n",
       "      <td>B</td>\n",
       "      <td>M</td>\n",
       "      <td>E</td>\n",
       "      <td>3549904</td>\n",
       "      <td>São José dos Campos</td>\n",
       "      <td>SP</td>\n",
       "      <td>DESPESAS LIQUIDADAS NO BIMESTRE</td>\n",
       "      <td>Saúde</td>\n",
       "      <td>1.260204e+08</td>\n",
       "      <td>721944</td>\n",
       "      <td>Total das Despesas Exceto Intra-Orçamentárias</td>\n",
       "      <td>2020-05-29T19:36:16Z</td>\n",
       "      <td>##------ Mon Nov 16 19:11:45 2020 ------##</td>\n",
       "    </tr>\n",
       "  </tbody>\n",
       "</table>\n",
       "</div>"
      ],
      "text/plain": [
       "   AN_EXERCICIO  NR_PERIODO IN_PERIODICIDADE CO_ESFERA CO_PODER  ID_ENTE  \\\n",
       "0          2020           1                B         M        E  3524402   \n",
       "1          2020           3                B         M        E  3549904   \n",
       "2          2020           2                B         M        E  3549904   \n",
       "3          2020           3                B         M        E  3524402   \n",
       "4          2020           2                B         M        E  3549904   \n",
       "\n",
       "               NO_ENTE SG_ENTE                     fase_despesa funcao  \\\n",
       "0              Jacareí      SP  DESPESAS EMPENHADAS NO BIMESTRE  Saúde   \n",
       "1  São José dos Campos      SP  DESPESAS EMPENHADAS NO BIMESTRE  Saúde   \n",
       "2  São José dos Campos      SP  DESPESAS EMPENHADAS NO BIMESTRE  Saúde   \n",
       "3              Jacareí      SP  DESPESAS EMPENHADAS NO BIMESTRE  Saúde   \n",
       "4  São José dos Campos      SP  DESPESAS LIQUIDADAS NO BIMESTRE  Saúde   \n",
       "\n",
       "          VALUE  QT_HABITANTE                                   ELEMENTLABEL  \\\n",
       "0  9.017802e+05        233662            Total de Despesas Intraorçamentária   \n",
       "1  5.759774e+06        721944            Total de Despesas Intraorçamentária   \n",
       "2  5.786305e+06        721944            Total de Despesas Intraorçamentária   \n",
       "3  3.131959e+07        233662  Total das Despesas Exceto Intra-Orçamentárias   \n",
       "4  1.260204e+08        721944  Total das Despesas Exceto Intra-Orçamentárias   \n",
       "\n",
       "       DT_STATUS_COLETA                                 dh_consulta  \n",
       "0  2020-03-31T01:36:10Z  ##------ Mon Nov 16 19:11:45 2020 ------##  \n",
       "1  2020-07-30T18:08:24Z  ##------ Mon Nov 16 19:11:45 2020 ------##  \n",
       "2  2020-05-29T19:36:16Z  ##------ Mon Nov 16 19:11:45 2020 ------##  \n",
       "3  2020-07-31T01:34:18Z  ##------ Mon Nov 16 19:11:45 2020 ------##  \n",
       "4  2020-05-29T19:36:16Z  ##------ Mon Nov 16 19:11:45 2020 ------##  "
      ]
     },
     "execution_count": 7,
     "metadata": {},
     "output_type": "execute_result"
    }
   ],
   "source": [
    "df_gastos_municipios = pd.read_csv('Dados/DespesasPrincipaisMunicipiosRegiaoSudeste.csv', sep=\",\", encoding=\"ANSI\")\n",
    "df_gastos_municipios.head()"
   ]
  },
  {
   "cell_type": "code",
   "execution_count": 8,
   "metadata": {},
   "outputs": [
    {
     "data": {
      "text/plain": [
       "CIDADE\n",
       "Caçapava               9.542239e+07\n",
       "Jacareí                3.721658e+08\n",
       "Pindamonhangaba        2.640983e+08\n",
       "São José dos Campos    1.161672e+09\n",
       "Taubaté                5.176157e+08\n",
       "Name: VALUE, dtype: float64"
      ]
     },
     "execution_count": 8,
     "metadata": {},
     "output_type": "execute_result"
    }
   ],
   "source": [
    "cities_expenses_series = df_gastos_municipios.groupby('NO_ENTE')['VALUE'].sum()\n",
    "cities_expenses_series.index.name = 'CIDADE'\n",
    "cities_expenses_series"
   ]
  },
  {
   "cell_type": "code",
   "execution_count": 9,
   "metadata": {},
   "outputs": [
    {
     "data": {
      "text/html": [
       "<div>\n",
       "<style scoped>\n",
       "    .dataframe tbody tr th:only-of-type {\n",
       "        vertical-align: middle;\n",
       "    }\n",
       "\n",
       "    .dataframe tbody tr th {\n",
       "        vertical-align: top;\n",
       "    }\n",
       "\n",
       "    .dataframe thead th {\n",
       "        text-align: right;\n",
       "    }\n",
       "</style>\n",
       "<table border=\"1\" class=\"dataframe\">\n",
       "  <thead>\n",
       "    <tr style=\"text-align: right;\">\n",
       "      <th></th>\n",
       "      <th>CIDADE</th>\n",
       "      <th>GASTO</th>\n",
       "    </tr>\n",
       "  </thead>\n",
       "  <tbody>\n",
       "    <tr>\n",
       "      <th>0</th>\n",
       "      <td>CAÇAPAVA</td>\n",
       "      <td>9.542239e+07</td>\n",
       "    </tr>\n",
       "    <tr>\n",
       "      <th>1</th>\n",
       "      <td>JACAREÍ</td>\n",
       "      <td>3.721658e+08</td>\n",
       "    </tr>\n",
       "    <tr>\n",
       "      <th>2</th>\n",
       "      <td>PINDAMONHANGABA</td>\n",
       "      <td>2.640983e+08</td>\n",
       "    </tr>\n",
       "    <tr>\n",
       "      <th>3</th>\n",
       "      <td>SÃO JOSÉ DOS CAMPOS</td>\n",
       "      <td>1.161672e+09</td>\n",
       "    </tr>\n",
       "    <tr>\n",
       "      <th>4</th>\n",
       "      <td>TAUBATÉ</td>\n",
       "      <td>5.176157e+08</td>\n",
       "    </tr>\n",
       "  </tbody>\n",
       "</table>\n",
       "</div>"
      ],
      "text/plain": [
       "                CIDADE         GASTO\n",
       "0             CAÇAPAVA  9.542239e+07\n",
       "1              JACAREÍ  3.721658e+08\n",
       "2      PINDAMONHANGABA  2.640983e+08\n",
       "3  SÃO JOSÉ DOS CAMPOS  1.161672e+09\n",
       "4              TAUBATÉ  5.176157e+08"
      ]
     },
     "execution_count": 9,
     "metadata": {},
     "output_type": "execute_result"
    }
   ],
   "source": [
    "frame = { 'CIDADE': cities_expenses_series.index.values, 'GASTO': cities_expenses_series.values }\n",
    "df_cities_expenses = pd.DataFrame(frame)\n",
    "df_cities_expenses['CIDADE'] = df_cities_expenses['CIDADE'].str.upper()\n",
    "df_cities_expenses"
   ]
  },
  {
   "cell_type": "markdown",
   "metadata": {},
   "source": [
    "### Importando e estudando dados de mortes por COVID dos municipios"
   ]
  },
  {
   "cell_type": "code",
   "execution_count": 130,
   "metadata": {},
   "outputs": [
    {
     "data": {
      "text/html": [
       "<div>\n",
       "<style scoped>\n",
       "    .dataframe tbody tr th:only-of-type {\n",
       "        vertical-align: middle;\n",
       "    }\n",
       "\n",
       "    .dataframe tbody tr th {\n",
       "        vertical-align: top;\n",
       "    }\n",
       "\n",
       "    .dataframe thead th {\n",
       "        text-align: right;\n",
       "    }\n",
       "</style>\n",
       "<table border=\"1\" class=\"dataframe\">\n",
       "  <thead>\n",
       "    <tr style=\"text-align: right;\">\n",
       "      <th></th>\n",
       "      <th>regiao</th>\n",
       "      <th>estado</th>\n",
       "      <th>municipio</th>\n",
       "      <th>coduf</th>\n",
       "      <th>codmun</th>\n",
       "      <th>codRegiaoSaude</th>\n",
       "      <th>nomeRegiaoSaude</th>\n",
       "      <th>data</th>\n",
       "      <th>semanaEpi</th>\n",
       "      <th>populacaoTCU2019</th>\n",
       "      <th>casosAcumulado</th>\n",
       "      <th>casosNovos</th>\n",
       "      <th>obitosAcumulado</th>\n",
       "      <th>obitosNovos</th>\n",
       "      <th>Recuperadosnovos</th>\n",
       "      <th>emAcompanhamentoNovos</th>\n",
       "      <th>interior/metropolitana</th>\n",
       "    </tr>\n",
       "  </thead>\n",
       "  <tbody>\n",
       "    <tr>\n",
       "      <th>413105</th>\n",
       "      <td>Nordeste</td>\n",
       "      <td>PE</td>\n",
       "      <td>TACARATU</td>\n",
       "      <td>26</td>\n",
       "      <td>261480.0</td>\n",
       "      <td>26002.0</td>\n",
       "      <td>ARCOVERDE</td>\n",
       "      <td>2020-11-23</td>\n",
       "      <td>48</td>\n",
       "      <td>25765.0</td>\n",
       "      <td>479</td>\n",
       "      <td>0</td>\n",
       "      <td>8</td>\n",
       "      <td>0</td>\n",
       "      <td>NaN</td>\n",
       "      <td>NaN</td>\n",
       "      <td>0.0</td>\n",
       "    </tr>\n",
       "    <tr>\n",
       "      <th>1288050</th>\n",
       "      <td>Centro-Oeste</td>\n",
       "      <td>MS</td>\n",
       "      <td>PONTA PORÃ</td>\n",
       "      <td>50</td>\n",
       "      <td>500660.0</td>\n",
       "      <td>50003.0</td>\n",
       "      <td>DOURADOS</td>\n",
       "      <td>2020-05-31</td>\n",
       "      <td>23</td>\n",
       "      <td>92526.0</td>\n",
       "      <td>30</td>\n",
       "      <td>0</td>\n",
       "      <td>0</td>\n",
       "      <td>0</td>\n",
       "      <td>NaN</td>\n",
       "      <td>NaN</td>\n",
       "      <td>0.0</td>\n",
       "    </tr>\n",
       "    <tr>\n",
       "      <th>505238</th>\n",
       "      <td>Nordeste</td>\n",
       "      <td>BA</td>\n",
       "      <td>ITABELA</td>\n",
       "      <td>29</td>\n",
       "      <td>291465.0</td>\n",
       "      <td>29018.0</td>\n",
       "      <td>PORTO SEGURO</td>\n",
       "      <td>2020-11-25</td>\n",
       "      <td>48</td>\n",
       "      <td>30584.0</td>\n",
       "      <td>963</td>\n",
       "      <td>3</td>\n",
       "      <td>21</td>\n",
       "      <td>0</td>\n",
       "      <td>NaN</td>\n",
       "      <td>NaN</td>\n",
       "      <td>0.0</td>\n",
       "    </tr>\n",
       "    <tr>\n",
       "      <th>594400</th>\n",
       "      <td>Sudeste</td>\n",
       "      <td>MG</td>\n",
       "      <td>CAMPANHA</td>\n",
       "      <td>31</td>\n",
       "      <td>311090.0</td>\n",
       "      <td>31010.0</td>\n",
       "      <td>TRES CORACOES</td>\n",
       "      <td>2020-11-20</td>\n",
       "      <td>47</td>\n",
       "      <td>16665.0</td>\n",
       "      <td>216</td>\n",
       "      <td>0</td>\n",
       "      <td>7</td>\n",
       "      <td>0</td>\n",
       "      <td>NaN</td>\n",
       "      <td>NaN</td>\n",
       "      <td>0.0</td>\n",
       "    </tr>\n",
       "    <tr>\n",
       "      <th>729901</th>\n",
       "      <td>Sudeste</td>\n",
       "      <td>MG</td>\n",
       "      <td>SANTA BÁRBARA DO TUGÚRIO</td>\n",
       "      <td>31</td>\n",
       "      <td>315730.0</td>\n",
       "      <td>31013.0</td>\n",
       "      <td>BARBACENA</td>\n",
       "      <td>2020-08-10</td>\n",
       "      <td>33</td>\n",
       "      <td>4430.0</td>\n",
       "      <td>5</td>\n",
       "      <td>0</td>\n",
       "      <td>0</td>\n",
       "      <td>0</td>\n",
       "      <td>NaN</td>\n",
       "      <td>NaN</td>\n",
       "      <td>0.0</td>\n",
       "    </tr>\n",
       "  </tbody>\n",
       "</table>\n",
       "</div>"
      ],
      "text/plain": [
       "               regiao estado                 municipio  coduf    codmun  \\\n",
       "413105       Nordeste     PE                  TACARATU     26  261480.0   \n",
       "1288050  Centro-Oeste     MS                PONTA PORÃ     50  500660.0   \n",
       "505238       Nordeste     BA                   ITABELA     29  291465.0   \n",
       "594400        Sudeste     MG                  CAMPANHA     31  311090.0   \n",
       "729901        Sudeste     MG  SANTA BÁRBARA DO TUGÚRIO     31  315730.0   \n",
       "\n",
       "         codRegiaoSaude nomeRegiaoSaude        data  semanaEpi  \\\n",
       "413105          26002.0       ARCOVERDE  2020-11-23         48   \n",
       "1288050         50003.0        DOURADOS  2020-05-31         23   \n",
       "505238          29018.0    PORTO SEGURO  2020-11-25         48   \n",
       "594400          31010.0   TRES CORACOES  2020-11-20         47   \n",
       "729901          31013.0       BARBACENA  2020-08-10         33   \n",
       "\n",
       "         populacaoTCU2019  casosAcumulado  casosNovos  obitosAcumulado  \\\n",
       "413105            25765.0             479           0                8   \n",
       "1288050           92526.0              30           0                0   \n",
       "505238            30584.0             963           3               21   \n",
       "594400            16665.0             216           0                7   \n",
       "729901             4430.0               5           0                0   \n",
       "\n",
       "         obitosNovos  Recuperadosnovos  emAcompanhamentoNovos  \\\n",
       "413105             0               NaN                    NaN   \n",
       "1288050            0               NaN                    NaN   \n",
       "505238             0               NaN                    NaN   \n",
       "594400             0               NaN                    NaN   \n",
       "729901             0               NaN                    NaN   \n",
       "\n",
       "         interior/metropolitana  \n",
       "413105                      0.0  \n",
       "1288050                     0.0  \n",
       "505238                      0.0  \n",
       "594400                      0.0  \n",
       "729901                      0.0  "
      ]
     },
     "execution_count": 130,
     "metadata": {},
     "output_type": "execute_result"
    }
   ],
   "source": [
    "df_all_covid_deaths = pd.read_csv('https://romeiro.s3-sa-east-1.amazonaws.com/HIST_PAINEL_COVIDBR_28nov2020.csv', sep=\";\", encoding=\"ANSI\")\n",
    "df_all_covid_deaths['municipio'] = df_all_covid_deaths['municipio'].str.upper()\n",
    "df_all_covid_deaths.sample(5)"
   ]
  },
  {
   "cell_type": "code",
   "execution_count": 94,
   "metadata": {},
   "outputs": [
    {
     "data": {
      "text/html": [
       "<div>\n",
       "<style scoped>\n",
       "    .dataframe tbody tr th:only-of-type {\n",
       "        vertical-align: middle;\n",
       "    }\n",
       "\n",
       "    .dataframe tbody tr th {\n",
       "        vertical-align: top;\n",
       "    }\n",
       "\n",
       "    .dataframe thead th {\n",
       "        text-align: right;\n",
       "    }\n",
       "</style>\n",
       "<table border=\"1\" class=\"dataframe\">\n",
       "  <thead>\n",
       "    <tr style=\"text-align: right;\">\n",
       "      <th></th>\n",
       "      <th>CIDADE</th>\n",
       "      <th>MORTES_POR_COVID</th>\n",
       "    </tr>\n",
       "  </thead>\n",
       "  <tbody>\n",
       "    <tr>\n",
       "      <th>0</th>\n",
       "      <td>CAÇAPAVA</td>\n",
       "      <td>6088</td>\n",
       "    </tr>\n",
       "    <tr>\n",
       "      <th>1</th>\n",
       "      <td>JACAREÍ</td>\n",
       "      <td>16830</td>\n",
       "    </tr>\n",
       "    <tr>\n",
       "      <th>2</th>\n",
       "      <td>PINDAMONHANGABA</td>\n",
       "      <td>5283</td>\n",
       "    </tr>\n",
       "    <tr>\n",
       "      <th>3</th>\n",
       "      <td>SÃO JOSÉ DOS CAMPOS</td>\n",
       "      <td>54784</td>\n",
       "    </tr>\n",
       "    <tr>\n",
       "      <th>4</th>\n",
       "      <td>TAUBATÉ</td>\n",
       "      <td>16232</td>\n",
       "    </tr>\n",
       "  </tbody>\n",
       "</table>\n",
       "</div>"
      ],
      "text/plain": [
       "                CIDADE  MORTES_POR_COVID\n",
       "0             CAÇAPAVA              6088\n",
       "1              JACAREÍ             16830\n",
       "2      PINDAMONHANGABA              5283\n",
       "3  SÃO JOSÉ DOS CAMPOS             54784\n",
       "4              TAUBATÉ             16232"
      ]
     },
     "execution_count": 94,
     "metadata": {},
     "output_type": "execute_result"
    }
   ],
   "source": [
    "covid_deaths_series = df_all_covid_deaths.query('municipio in @chosen_cities').groupby('municipio').sum('obitosAcumulado')['obitosAcumulado']\n",
    "frame = { 'CIDADE': covid_deaths_series.index, 'MORTES_POR_COVID': covid_deaths_series.values }\n",
    "df_covid_deaths = pd.DataFrame(frame)\n",
    "df_covid_deaths"
   ]
  },
  {
   "cell_type": "markdown",
   "metadata": {},
   "source": [
    "### Concatenando informações no mesmo DataFrame"
   ]
  },
  {
   "cell_type": "code",
   "execution_count": 95,
   "metadata": {},
   "outputs": [
    {
     "data": {
      "text/html": [
       "<div>\n",
       "<style scoped>\n",
       "    .dataframe tbody tr th:only-of-type {\n",
       "        vertical-align: middle;\n",
       "    }\n",
       "\n",
       "    .dataframe tbody tr th {\n",
       "        vertical-align: top;\n",
       "    }\n",
       "\n",
       "    .dataframe thead th {\n",
       "        text-align: right;\n",
       "    }\n",
       "</style>\n",
       "<table border=\"1\" class=\"dataframe\">\n",
       "  <thead>\n",
       "    <tr style=\"text-align: right;\">\n",
       "      <th></th>\n",
       "      <th>CIDADE</th>\n",
       "      <th>GASTO</th>\n",
       "      <th>NOME_CANDIDATO</th>\n",
       "      <th>SIGLA_PARTIDO</th>\n",
       "      <th>MORTES_POR_COVID</th>\n",
       "      <th>CIDADE_GERAL</th>\n",
       "    </tr>\n",
       "  </thead>\n",
       "  <tbody>\n",
       "    <tr>\n",
       "      <th>0</th>\n",
       "      <td>Caçapava</td>\n",
       "      <td>9.542239e+07</td>\n",
       "      <td>Fernando Cid Diniz Borges</td>\n",
       "      <td>PV</td>\n",
       "      <td>6088</td>\n",
       "      <td>Caçapava\\nFernando Cid Diniz Borges\\nPV</td>\n",
       "    </tr>\n",
       "    <tr>\n",
       "      <th>1</th>\n",
       "      <td>Jacareí</td>\n",
       "      <td>3.721658e+08</td>\n",
       "      <td>Izaias José De Santana</td>\n",
       "      <td>PSDB</td>\n",
       "      <td>16830</td>\n",
       "      <td>Jacareí\\nIzaias José De Santana\\nPSDB</td>\n",
       "    </tr>\n",
       "    <tr>\n",
       "      <th>2</th>\n",
       "      <td>Pindamonhangaba</td>\n",
       "      <td>2.640983e+08</td>\n",
       "      <td>Isael Domingues</td>\n",
       "      <td>PR</td>\n",
       "      <td>5283</td>\n",
       "      <td>Pindamonhangaba\\nIsael Domingues\\nPR</td>\n",
       "    </tr>\n",
       "    <tr>\n",
       "      <th>3</th>\n",
       "      <td>São José Dos Campos</td>\n",
       "      <td>1.161672e+09</td>\n",
       "      <td>Felício Ramuth</td>\n",
       "      <td>PSDB</td>\n",
       "      <td>54784</td>\n",
       "      <td>São José Dos Campos\\nFelício Ramuth\\nPSDB</td>\n",
       "    </tr>\n",
       "    <tr>\n",
       "      <th>4</th>\n",
       "      <td>Taubaté</td>\n",
       "      <td>5.176157e+08</td>\n",
       "      <td>Jose Bernardo Ortiz Monteiro Junior</td>\n",
       "      <td>PSDB</td>\n",
       "      <td>16232</td>\n",
       "      <td>Taubaté\\nJose Bernardo Ortiz Monteiro Junior\\n...</td>\n",
       "    </tr>\n",
       "  </tbody>\n",
       "</table>\n",
       "</div>"
      ],
      "text/plain": [
       "                CIDADE         GASTO                       NOME_CANDIDATO  \\\n",
       "0             Caçapava  9.542239e+07            Fernando Cid Diniz Borges   \n",
       "1              Jacareí  3.721658e+08               Izaias José De Santana   \n",
       "2      Pindamonhangaba  2.640983e+08                      Isael Domingues   \n",
       "3  São José Dos Campos  1.161672e+09                       Felício Ramuth   \n",
       "4              Taubaté  5.176157e+08  Jose Bernardo Ortiz Monteiro Junior   \n",
       "\n",
       "  SIGLA_PARTIDO  MORTES_POR_COVID  \\\n",
       "0            PV              6088   \n",
       "1          PSDB             16830   \n",
       "2            PR              5283   \n",
       "3          PSDB             54784   \n",
       "4          PSDB             16232   \n",
       "\n",
       "                                        CIDADE_GERAL  \n",
       "0            Caçapava\\nFernando Cid Diniz Borges\\nPV  \n",
       "1              Jacareí\\nIzaias José De Santana\\nPSDB  \n",
       "2               Pindamonhangaba\\nIsael Domingues\\nPR  \n",
       "3          São José Dos Campos\\nFelício Ramuth\\nPSDB  \n",
       "4  Taubaté\\nJose Bernardo Ortiz Monteiro Junior\\n...  "
      ]
     },
     "execution_count": 95,
     "metadata": {},
     "output_type": "execute_result"
    }
   ],
   "source": [
    "data_frames = [df_cities_expenses, df_candidates, df_covid_deaths]\n",
    "df_government_efficiency = reduce(lambda left, right: pd.merge(left, right, how='inner'), data_frames)\n",
    "df_government_efficiency['NOME_CANDIDATO'] = df_government_efficiency['NOME_CANDIDATO'].str.title()\n",
    "df_government_efficiency['CIDADE'] = df_government_efficiency['CIDADE'].str.title()\n",
    "df_government_efficiency['CIDADE_GERAL'] = df_government_efficiency[['CIDADE', 'NOME_CANDIDATO', 'SIGLA_PARTIDO']].agg('\\n'.join, axis=1)\n",
    "df_government_efficiency"
   ]
  },
  {
   "cell_type": "markdown",
   "metadata": {},
   "source": [
    "### Visualizando gastos com saúde de cada governo"
   ]
  },
  {
   "cell_type": "code",
   "execution_count": 109,
   "metadata": {},
   "outputs": [
    {
     "data": {
      "text/plain": [
       "<AxesSubplot:title={'center':'Comparação dos gastos de saúde das cidades do vale em 2020'}, xlabel='Cidade', ylabel='Gasto (R$ Bi)'>"
      ]
     },
     "execution_count": 109,
     "metadata": {},
     "output_type": "execute_result"
    },
    {
     "data": {
      "image/png": "[encoded data removed]",
      "text/plain": [
       "<Figure size 936x360 with 1 Axes>"
      ]
     },
     "metadata": {
      "needs_background": "light"
     },
     "output_type": "display_data"
    }
   ],
   "source": [
    "graph_government_expenses = df_government_efficiency.plot.bar(\n",
    "    x='CIDADE_GERAL', \n",
    "    y='GASTO', \n",
    "    rot=15, \n",
    "    title='Comparação dos gastos de saúde das cidades do vale em 2020', \n",
    "    xlabel='Cidade',\n",
    "    ylabel='Gasto (R$ Bi)',\n",
    "    color='green',\n",
    "    figsize=(13, 5))\n",
    "graph_government_efficiency.legend(['Gasto com saúde'])\n",
    "graph_government_efficiency"
   ]
  },
  {
   "cell_type": "markdown",
   "metadata": {},
   "source": [
    "### Visualizando mortes por COVID-19 em cada governo"
   ]
  },
  {
   "cell_type": "code",
   "execution_count": 107,
   "metadata": {},
   "outputs": [
    {
     "data": {
      "text/plain": [
       "<AxesSubplot:title={'center':'Comparação da quantidade de mortes por COVID-19 por governo até 28/11/2020'}, xlabel='Cidade', ylabel='Mortes'>"
      ]
     },
     "execution_count": 107,
     "metadata": {},
     "output_type": "execute_result"
    },
    {
     "data": {
      "image/png": "[encoded data removed]",
      "text/plain": [
       "<Figure size 936x360 with 1 Axes>"
      ]
     },
     "metadata": {
      "needs_background": "light"
     },
     "output_type": "display_data"
    }
   ],
   "source": [
    "graph_cities_deaths = df_government_efficiency.plot.bar(\n",
    "    x='CIDADE_GERAL', \n",
    "    y='MORTES_POR_COVID', \n",
    "    rot=15, \n",
    "    title='Comparação da quantidade de mortes por COVID-19 por governo até 28/11/2020', \n",
    "    xlabel='Cidade',\n",
    "    ylabel='Mortes',\n",
    "    color='red',\n",
    "    figsize=(13, 5))\n",
    "graph_cities_deaths.legend(['Mortes por COVID-19'])\n",
    "graph_cities_deaths"
   ]
  },
  {
   "cell_type": "markdown",
   "metadata": {},
   "source": [
    "### Visualizando gastos com saúde por partido"
   ]
  },
  {
   "cell_type": "code",
   "execution_count": 119,
   "metadata": {},
   "outputs": [
    {
     "data": {
      "text/plain": [
       "<AxesSubplot:title={'center':'Comparação dos gastos com saúde por partido até 28/11/2020'}, xlabel='Partido', ylabel='Gasto (R$ Bi)'>"
      ]
     },
     "execution_count": 119,
     "metadata": {},
     "output_type": "execute_result"
    },
    {
     "data": {
      "image/png": "[encoded data removed]",
      "text/plain": [
       "<Figure size 936x360 with 1 Axes>"
      ]
     },
     "metadata": {
      "needs_background": "light"
     },
     "output_type": "display_data"
    }
   ],
   "source": [
    "parties_expenses_series = df_government_efficiency.groupby('SIGLA_PARTIDO').sum('GASTO')['GASTO']\n",
    "frame = { 'PARTIDO': parties_expenses_series.index, 'GASTO': parties_expenses_series.values }\n",
    "df_parties_expenses = pd.DataFrame(frame)\n",
    "graph_parties_expenses = df_parties_expenses.plot.bar(\n",
    "    x='PARTIDO', \n",
    "    y='GASTO', \n",
    "    rot=0, \n",
    "    title='Comparação dos gastos com saúde por partido até 28/11/2020', \n",
    "    xlabel='Partido',\n",
    "    ylabel='Gasto (R$ Bi)',\n",
    "    color='green',\n",
    "    figsize=(13, 5))\n",
    "graph_parties_expenses.legend(['Gasto com saúde'])\n",
    "graph_parties_expenses"
   ]
  },
  {
   "cell_type": "markdown",
   "metadata": {},
   "source": [
    "### Visualizando mortes por COVID-19 por partido"
   ]
  },
  {
   "cell_type": "code",
   "execution_count": 118,
   "metadata": {},
   "outputs": [
    {
     "data": {
      "text/plain": [
       "<AxesSubplot:title={'center':'Comparação de mortes por COVID-19 por partido até 28/11/2020'}, xlabel='Partido', ylabel='Mortes por COVID-19'>"
      ]
     },
     "execution_count": 118,
     "metadata": {},
     "output_type": "execute_result"
    },
    {
     "data": {
      "image/png": "[encoded data removed]",
      "text/plain": [
       "<Figure size 936x360 with 1 Axes>"
      ]
     },
     "metadata": {
      "needs_background": "light"
     },
     "output_type": "display_data"
    }
   ],
   "source": [
    "parties_covid_death_series = df_government_efficiency.groupby('SIGLA_PARTIDO').sum('MORTES_POR_COVID')['MORTES_POR_COVID']\n",
    "frame = { 'PARTIDO': parties_covid_death_series.index, 'MORTES_POR_COVID': parties_covid_death_series.values }\n",
    "df_parties_covid_death = pd.DataFrame(frame)\n",
    "graph_parties_covid_death = df_parties_covid_death.plot.bar(\n",
    "    x='PARTIDO', \n",
    "    y='MORTES_POR_COVID', \n",
    "    rot=0, \n",
    "    title='Comparação de mortes por COVID-19 por partido até 28/11/2020', \n",
    "    xlabel='Partido',\n",
    "    ylabel='Mortes por COVID-19',\n",
    "    color='red',\n",
    "    figsize=(13, 5))\n",
    "graph_parties_covid_death.legend(['Mortes por COVID-19'])\n",
    "graph_parties_covid_death"
   ]
  },
  {
   "cell_type": "code",
   "execution_count": null,
   "metadata": {},
   "outputs": [],
   "source": []
  }
 ],
 "metadata": {
  "kernelspec": {
   "display_name": "Python 3",
   "language": "python",
   "name": "python3"
  },
  "language_info": {
   "codemirror_mode": {
    "name": "ipython",
    "version": 3
   },
   "file_extension": ".py",
   "mimetype": "text/x-python",
   "name": "python",
   "nbconvert_exporter": "python",
   "pygments_lexer": "ipython3",
   "version": "3.8.5"
  }
 },
 "nbformat": 4,
 "nbformat_minor": 4
}
